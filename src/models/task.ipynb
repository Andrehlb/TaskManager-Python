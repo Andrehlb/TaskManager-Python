{
 "cells": [
  {
   "cell_type": "code",
   "execution_count": null,
   "metadata": {},
   "outputs": [],
   "source": [
    "from  sqlalchemy import Column, Integer, String, DateTime\n",
    "from sqlalchemy.ext.declarative import declarative_base"
   ]
  },
  {
   "cell_type": "code",
   "execution_count": null,
   "metadata": {},
   "outputs": [],
   "source": [
    "Base = declarative_base()"
   ]
  },
  {
   "cell_type": "code",
   "execution_count": null,
   "metadata": {},
   "outputs": [],
   "source": [
    "class Task(Base):\n",
    "    __tablename__ = 'tasks'\n",
    "    id = Column(Integer, primary_key=True)\n",
    "    description = Column(String,nullable=False)\n",
    "    due_date = Column(DateTime,nullable=False)\n",
    "    priority = Column(Integer,nullable=False)\n",
    "    def __repr__(self):\n",
    "        return f'<Task(id={self.id}, description={self.description}, due_date={self.due_date}, priority={self.priority})>'"
   ]
  },
  {
   "cell_type": "code",
   "execution_count": null,
   "metadata": {},
   "outputs": [],
   "source": []
  }
 ],
 "metadata": {
  "language_info": {
   "name": "python"
  },
  "orig_nbformat": 4
 },
 "nbformat": 4,
 "nbformat_minor": 2
}
